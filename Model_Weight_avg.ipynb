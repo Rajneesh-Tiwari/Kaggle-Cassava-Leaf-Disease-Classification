{
 "cells": [
  {
   "cell_type": "code",
   "execution_count": 1,
   "metadata": {},
   "outputs": [],
   "source": [
    "import pandas as pd\n",
    "import numpy as np\n",
    "import json\n",
    "import gc\n",
    "import os\n",
    "import torch\n",
    "from torch import nn\n",
    "import torch.nn.functional as F\n",
    "from torch.utils.data import DataLoader, random_split\n",
    "from torchvision import transforms\n",
    "import pytorch_lightning as pl\n",
    "import albumentations\n",
    "from torch.utils.data import Dataset, DataLoader\n",
    "from torchvision import transforms, utils\n",
    "from albumentations.core.composition import Compose\n",
    "from albumentations.pytorch import ToTensorV2\n",
    "import torchvision\n",
    "from typing import Any, Dict, List, Union, Optional\n",
    "from pytorch_lightning.callbacks import ModelCheckpoint, EarlyStopping\n",
    "from sklearn.model_selection import StratifiedKFold\n",
    "import cv2\n",
    "import torch\n",
    "from efficientnet_pytorch import EfficientNet\n",
    "import numpy as np\n",
    "import timm\n",
    "from PIL import Image\n",
    "from PIL import ImageFile"
   ]
  },
  {
   "cell_type": "code",
   "execution_count": 2,
   "metadata": {
    "scrolled": true
   },
   "outputs": [
    {
     "data": {
      "text/plain": [
       "'1.1.0'"
      ]
     },
     "execution_count": 2,
     "metadata": {},
     "output_type": "execute_result"
    }
   ],
   "source": [
    "import pytorch_lightning\n",
    "pytorch_lightning.__version__"
   ]
  },
  {
   "cell_type": "code",
   "execution_count": 3,
   "metadata": {
    "scrolled": true
   },
   "outputs": [
    {
     "data": {
      "text/plain": [
       "42"
      ]
     },
     "execution_count": 3,
     "metadata": {},
     "output_type": "execute_result"
    }
   ],
   "source": [
    "pytorch_lightning.utilities.seed.seed_everything(seed=42)"
   ]
  },
  {
   "cell_type": "code",
   "execution_count": 4,
   "metadata": {},
   "outputs": [
    {
     "data": {
      "text/plain": [
       "'1.7.0'"
      ]
     },
     "execution_count": 4,
     "metadata": {},
     "output_type": "execute_result"
    }
   ],
   "source": [
    "torch.__version__"
   ]
  },
  {
   "cell_type": "code",
   "execution_count": 5,
   "metadata": {},
   "outputs": [],
   "source": [
    "import collections"
   ]
  },
  {
   "cell_type": "code",
   "execution_count": 6,
   "metadata": {},
   "outputs": [],
   "source": [
    "def runSWA(modelDir=r'C:\\Users\\Kaggle\\Leaf_Classification\\saved_models\\Image 576\\resnext50_32x4d_sz_576_Mixup_0.3__taylorLoss_timm_newhead'):\n",
    "\n",
    "    for f in range(5):\n",
    "        foldFolder = (os.path.join(modelDir,str(f)))\n",
    "\n",
    "        print(f\"----------- Fold: {f} -----------\")\n",
    "        weight1,weight2 = os.listdir(foldFolder)\n",
    "        print(f\"------------------------------------------------------------------\")\n",
    "        print(weight1,weight2)\n",
    "\n",
    "        swa_state_dict = torch.load(os.path.join(foldFolder,weight1), map_location=lambda storage, loc: storage)['state_dict']\n",
    "        newDict = collections.OrderedDict()\n",
    "        \n",
    "        for k,v in swa_state_dict.items():\n",
    "            #print(k,v)\n",
    "            if \"model.\" in k:\n",
    "#                 name = k.replace(\"model.\",\"\")\n",
    "#                 swa_state_dict[k] = torch.zeros_like(v,dtype=torch.float32)\n",
    "                newDict[k] = torch.zeros_like(v,dtype=torch.float32)\n",
    "            \n",
    "        for wts in [weight1,weight2]:\n",
    "            checkpoint = os.path.join(foldFolder,wts)\n",
    "            state_dict = torch.load(checkpoint, map_location=lambda storage, loc: storage)['state_dict']\n",
    "            for k,v in state_dict.items():\n",
    "                if \"model.\" in k:\n",
    "#                     name = k.replace(\"model.\",\"\")\n",
    "#                     swa_state_dict[k] += v\n",
    "                    newDict[k] += v\n",
    "            #---\n",
    "            #print(checkpoint)\n",
    "        print('')\n",
    "\n",
    "            #----\n",
    "#         for k,v in swa_state_dict.items():\n",
    "#             swa_state_dict[k] /= 2\n",
    "            \n",
    "        for k,v in newDict.items():\n",
    "            newDict[k] /= 2\n",
    "            \n",
    "\n",
    "        avgWeightPath = os.path.join(modelDir,\"avgWeights\")\n",
    "\n",
    "        if not os.path.exists(avgWeightPath):\n",
    "            os.makedirs(avgWeightPath)\n",
    "        name = avgWeightPath+f\"\\_Avg_fold_upd_{f}.ckpt\"\n",
    "#         torch.save(swa_state_dict, name)\n",
    "        torch.save(newDict, name)\n",
    "\n",
    "\n",
    "    del swa_state_dict,state_dict,;gc.collect()"
   ]
  },
  {
   "cell_type": "code",
   "execution_count": 7,
   "metadata": {
    "scrolled": true
   },
   "outputs": [
    {
     "name": "stdout",
     "output_type": "stream",
     "text": [
      "----------- Fold: 0 -----------\n",
      "------------------------------------------------------------------\n",
      "epoch=14_valid_loss=0.4199_valid_accuracy=0.8944.ckpt epoch=9_valid_loss=0.4155_valid_accuracy=0.8946.ckpt\n",
      "\n",
      "----------- Fold: 1 -----------\n",
      "------------------------------------------------------------------\n",
      "epoch=10_valid_loss=0.3979_valid_accuracy=0.9021.ckpt epoch=6_valid_loss=0.4070_valid_accuracy=0.9007.ckpt\n",
      "\n",
      "----------- Fold: 2 -----------\n",
      "------------------------------------------------------------------\n",
      "epoch=10_valid_loss=0.3749_valid_accuracy=0.8988.ckpt epoch=9_valid_loss=0.3755_valid_accuracy=0.8988.ckpt\n",
      "\n",
      "----------- Fold: 3 -----------\n",
      "------------------------------------------------------------------\n",
      "epoch=10_valid_loss=0.3827_valid_accuracy=0.8827.ckpt epoch=7_valid_loss=0.3769_valid_accuracy=0.8832.ckpt\n",
      "\n",
      "----------- Fold: 4 -----------\n",
      "------------------------------------------------------------------\n",
      "epoch=11_valid_loss=0.3743_valid_accuracy=0.8876.ckpt epoch=9_valid_loss=0.3747_valid_accuracy=0.8874.ckpt\n",
      "\n"
     ]
    }
   ],
   "source": [
    "runSWA(r'C:\\Users\\Kaggle\\Leaf_Classification\\saved_models\\Image 576\\tf_effnetB4_distillation')"
   ]
  },
  {
   "cell_type": "code",
   "execution_count": null,
   "metadata": {},
   "outputs": [],
   "source": []
  },
  {
   "cell_type": "code",
   "execution_count": null,
   "metadata": {},
   "outputs": [],
   "source": []
  },
  {
   "cell_type": "code",
   "execution_count": null,
   "metadata": {},
   "outputs": [],
   "source": []
  }
 ],
 "metadata": {
  "kernelspec": {
   "display_name": "Python 3",
   "language": "python",
   "name": "python3"
  },
  "language_info": {
   "codemirror_mode": {
    "name": "ipython",
    "version": 3
   },
   "file_extension": ".py",
   "mimetype": "text/x-python",
   "name": "python",
   "nbconvert_exporter": "python",
   "pygments_lexer": "ipython3",
   "version": "3.7.9"
  }
 },
 "nbformat": 4,
 "nbformat_minor": 4
}
